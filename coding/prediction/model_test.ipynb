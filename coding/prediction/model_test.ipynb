{
 "cells": [
  {
   "cell_type": "code",
   "execution_count": 1,
   "metadata": {},
   "outputs": [],
   "source": [
    "import pickle"
   ]
  },
  {
   "cell_type": "code",
   "execution_count": 2,
   "metadata": {},
   "outputs": [],
   "source": [
    "with open(\"model.pkl\", \"rb\") as f:\n",
    "    model = pickle.load(f)"
   ]
  },
  {
   "cell_type": "code",
   "execution_count": 3,
   "metadata": {},
   "outputs": [],
   "source": [
    "# # brand,series,year,km,gear,fuel,body_type,engine_displacement,engine_power,price\n",
    "# brand = input(\"BMW:1\\nRenault:2\\nVolkswagen:3\\nOtomobil marka bilgisini giriniz : \")\n",
    "# series = input(\"\\n\\nOtomobil seri bilgisini giriniz : \")\n",
    "# year = input(\"\\n\\nOtomobil yıl bilgisini giriniz : \")\n",
    "# km = input(\"\\n\\nOtomobil km bilgisini giriniz : \")\n",
    "# gear = input(\"\\n\\nManuel:1\\nYarı Otomatik:2\\nOtomatik:3\\nOtomobil vites bilgisini giriniz : \")\n",
    "# fuel = input(\"\\n\\nBenzin:1\\nDizel:2\\nBenzin & LPG:3\\nHybrid:4\\nElektrik:5\\nOtomobil yakıt bilgisini giriniz : \")\n",
    "# body_type = input(\"\\n\\nSedan:1\\nStation Wagon:2\\nHatchback 5 kapı:3\\nCabrio:4\\nCoupe:5\\nHatchback 3 kapı:6\\nMPV:7\\nOtomobil kasa tipi bilgisini giriniz : \")\n",
    "# engine_displacement = input(\"\\n\\nOtomobil motor hacmi bilgisini giriniz : \")\n",
    "# engine_power = input(\"\\n\\nOtomobil motor gücü bilgisini giriniz : \")\n",
    "\n",
    "X = [[9,806,2021,20000,2,2,1,1490,123]]\n"
   ]
  },
  {
   "cell_type": "code",
   "execution_count": 4,
   "metadata": {},
   "outputs": [
    {
     "name": "stdout",
     "output_type": "stream",
     "text": [
      "Otomobilin tahmini fiyatı: 572859\n"
     ]
    }
   ],
   "source": [
    "y_pred = model.predict(X)\n",
    "print(\"Otomobilin tahmini fiyatı:\", int(y_pred[0]))"
   ]
  },
  {
   "cell_type": "code",
   "execution_count": null,
   "metadata": {},
   "outputs": [],
   "source": []
  }
 ],
 "metadata": {
  "kernelspec": {
   "display_name": "Python 3",
   "language": "python",
   "name": "python3"
  },
  "language_info": {
   "codemirror_mode": {
    "name": "ipython",
    "version": 3
   },
   "file_extension": ".py",
   "mimetype": "text/x-python",
   "name": "python",
   "nbconvert_exporter": "python",
   "pygments_lexer": "ipython3",
   "version": "3.9.1 (tags/v3.9.1:1e5d33e, Dec  7 2020, 17:08:21) [MSC v.1927 64 bit (AMD64)]"
  },
  "orig_nbformat": 4,
  "vscode": {
   "interpreter": {
    "hash": "fed92f82d8dd795fba14ea1acce25d431e9d01f7f3dfcebac85b96622b745e0f"
   }
  }
 },
 "nbformat": 4,
 "nbformat_minor": 2
}
