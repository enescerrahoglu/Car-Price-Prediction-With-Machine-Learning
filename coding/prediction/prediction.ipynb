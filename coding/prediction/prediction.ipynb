{
 "cells": [
  {
   "cell_type": "code",
   "execution_count": 10,
   "metadata": {},
   "outputs": [
    {
     "name": "stdout",
     "output_type": "stream",
     "text": [
      "Epoch 1/50\n"
     ]
    },
    {
     "name": "stderr",
     "output_type": "stream",
     "text": [
      "c:\\Users\\enesc\\AppData\\Local\\Programs\\Python\\Python39\\lib\\site-packages\\keras\\engine\\data_adapter.py:1696: FutureWarning: The behavior of `series[i:j]` with an integer-dtype index is deprecated. In a future version, this will be treated as *label-based* indexing, consistent with e.g. `series[i]` lookups. To retain the old behavior, use `series.iloc[i:j]`. To get the future behavior, use `series.loc[i:j]`.\n",
      "  return t[start:end]\n"
     ]
    },
    {
     "name": "stdout",
     "output_type": "stream",
     "text": [
      "212/212 [==============================] - 1s 2ms/step - loss: 861336895488.0000 - val_loss: 13114189807616.0000\n",
      "Epoch 2/50\n",
      "212/212 [==============================] - 0s 2ms/step - loss: 859799420928.0000 - val_loss: 13109058076672.0000\n",
      "Epoch 3/50\n",
      "212/212 [==============================] - 0s 1ms/step - loss: 853652733952.0000 - val_loss: 13093675466752.0000\n",
      "Epoch 4/50\n",
      "212/212 [==============================] - 0s 2ms/step - loss: 839775223808.0000 - val_loss: 13063904296960.0000\n",
      "Epoch 5/50\n",
      "212/212 [==============================] - 0s 1ms/step - loss: 816933044224.0000 - val_loss: 13019099693056.0000\n",
      "Epoch 6/50\n",
      "212/212 [==============================] - 0s 1ms/step - loss: 785645109248.0000 - val_loss: 12960075350016.0000\n",
      "Epoch 7/50\n",
      "212/212 [==============================] - 0s 1ms/step - loss: 745402662912.0000 - val_loss: 12883438075904.0000\n",
      "Epoch 8/50\n",
      "212/212 [==============================] - 0s 1ms/step - loss: 697902891008.0000 - val_loss: 12796420947968.0000\n",
      "Epoch 9/50\n",
      "212/212 [==============================] - 0s 1ms/step - loss: 646444417024.0000 - val_loss: 12698913865728.0000\n",
      "Epoch 10/50\n",
      "212/212 [==============================] - 0s 1ms/step - loss: 594890653696.0000 - val_loss: 12602975453184.0000\n",
      "Epoch 11/50\n",
      "212/212 [==============================] - 0s 2ms/step - loss: 545485553664.0000 - val_loss: 12503691034624.0000\n",
      "Epoch 12/50\n",
      "212/212 [==============================] - 0s 1ms/step - loss: 500681441280.0000 - val_loss: 12411416346624.0000\n",
      "Epoch 13/50\n",
      "212/212 [==============================] - 0s 1ms/step - loss: 461866893312.0000 - val_loss: 12324356227072.0000\n",
      "Epoch 14/50\n",
      "212/212 [==============================] - 0s 1ms/step - loss: 429127401472.0000 - val_loss: 12245425717248.0000\n",
      "Epoch 15/50\n",
      "212/212 [==============================] - 0s 1ms/step - loss: 402526404608.0000 - val_loss: 12175321071616.0000\n",
      "Epoch 16/50\n",
      "212/212 [==============================] - 0s 2ms/step - loss: 381129850880.0000 - val_loss: 12114093670400.0000\n",
      "Epoch 17/50\n",
      "212/212 [==============================] - 0s 1ms/step - loss: 364311543808.0000 - val_loss: 12059102150656.0000\n",
      "Epoch 18/50\n",
      "212/212 [==============================] - 0s 1ms/step - loss: 350856314880.0000 - val_loss: 12011646746624.0000\n",
      "Epoch 19/50\n",
      "212/212 [==============================] - 0s 1ms/step - loss: 340120272896.0000 - val_loss: 11970651619328.0000\n",
      "Epoch 20/50\n",
      "212/212 [==============================] - 0s 1ms/step - loss: 331123720192.0000 - val_loss: 11933395714048.0000\n",
      "Epoch 21/50\n",
      "212/212 [==============================] - 0s 1ms/step - loss: 323813376000.0000 - val_loss: 11899286585344.0000\n",
      "Epoch 22/50\n",
      "212/212 [==============================] - 0s 1ms/step - loss: 317422632960.0000 - val_loss: 11867519975424.0000\n",
      "Epoch 23/50\n",
      "212/212 [==============================] - 0s 1ms/step - loss: 311900143616.0000 - val_loss: 11842095153152.0000\n",
      "Epoch 24/50\n",
      "212/212 [==============================] - 0s 1ms/step - loss: 307070238720.0000 - val_loss: 11816944009216.0000\n",
      "Epoch 25/50\n",
      "212/212 [==============================] - 0s 1ms/step - loss: 302830682112.0000 - val_loss: 11793063739392.0000\n",
      "Epoch 26/50\n",
      "212/212 [==============================] - 0s 1ms/step - loss: 298897113088.0000 - val_loss: 11773939810304.0000\n",
      "Epoch 27/50\n",
      "212/212 [==============================] - 0s 1ms/step - loss: 295205830656.0000 - val_loss: 11752920055808.0000\n",
      "Epoch 28/50\n",
      "212/212 [==============================] - 0s 1ms/step - loss: 291852517376.0000 - val_loss: 11733180612608.0000\n",
      "Epoch 29/50\n",
      "212/212 [==============================] - 0s 1ms/step - loss: 288715309056.0000 - val_loss: 11715952508928.0000\n",
      "Epoch 30/50\n",
      "212/212 [==============================] - 0s 1ms/step - loss: 285622665216.0000 - val_loss: 11698882740224.0000\n",
      "Epoch 31/50\n",
      "212/212 [==============================] - 0s 1ms/step - loss: 282832896000.0000 - val_loss: 11680565166080.0000\n",
      "Epoch 32/50\n",
      "212/212 [==============================] - 0s 1ms/step - loss: 279890788352.0000 - val_loss: 11666715574272.0000\n",
      "Epoch 33/50\n",
      "212/212 [==============================] - 0s 2ms/step - loss: 277326069760.0000 - val_loss: 11648482934784.0000\n",
      "Epoch 34/50\n",
      "212/212 [==============================] - 0s 1ms/step - loss: 274795773952.0000 - val_loss: 11631129001984.0000\n",
      "Epoch 35/50\n",
      "212/212 [==============================] - 0s 1ms/step - loss: 272335749120.0000 - val_loss: 11616556941312.0000\n",
      "Epoch 36/50\n",
      "212/212 [==============================] - 0s 2ms/step - loss: 269828784128.0000 - val_loss: 11603792625664.0000\n",
      "Epoch 37/50\n",
      "212/212 [==============================] - 0s 1ms/step - loss: 267483611136.0000 - val_loss: 11584676036608.0000\n",
      "Epoch 38/50\n",
      "212/212 [==============================] - 0s 1ms/step - loss: 265224945664.0000 - val_loss: 11569188569088.0000\n",
      "Epoch 39/50\n",
      "212/212 [==============================] - 0s 1ms/step - loss: 263044710400.0000 - val_loss: 11555628384256.0000\n",
      "Epoch 40/50\n",
      "212/212 [==============================] - 0s 2ms/step - loss: 260992811008.0000 - val_loss: 11543481679872.0000\n",
      "Epoch 41/50\n",
      "212/212 [==============================] - 0s 1ms/step - loss: 258866298880.0000 - val_loss: 11529807200256.0000\n",
      "Epoch 42/50\n",
      "212/212 [==============================] - 0s 1ms/step - loss: 256954007552.0000 - val_loss: 11517535715328.0000\n",
      "Epoch 43/50\n",
      "212/212 [==============================] - 0s 1ms/step - loss: 254884184064.0000 - val_loss: 11503182807040.0000\n",
      "Epoch 44/50\n",
      "212/212 [==============================] - 0s 2ms/step - loss: 253044785152.0000 - val_loss: 11492886839296.0000\n",
      "Epoch 45/50\n",
      "212/212 [==============================] - 0s 1ms/step - loss: 251236696064.0000 - val_loss: 11478947069952.0000\n",
      "Epoch 46/50\n",
      "212/212 [==============================] - 0s 1ms/step - loss: 249453068288.0000 - val_loss: 11464773468160.0000\n",
      "Epoch 47/50\n",
      "212/212 [==============================] - 0s 2ms/step - loss: 247794171904.0000 - val_loss: 11452672901120.0000\n",
      "Epoch 48/50\n",
      "212/212 [==============================] - 0s 2ms/step - loss: 246118416384.0000 - val_loss: 11440340598784.0000\n",
      "Epoch 49/50\n",
      "212/212 [==============================] - 0s 2ms/step - loss: 244576600064.0000 - val_loss: 11427673800704.0000\n",
      "Epoch 50/50\n",
      "212/212 [==============================] - 0s 2ms/step - loss: 243048628224.0000 - val_loss: 11418310017024.0000\n",
      "Test loss: 337658478592.0\n",
      "67/67 [==============================] - 0s 832us/step\n"
     ]
    }
   ],
   "source": [
    "import tensorflow as tf\n",
    "from sklearn.preprocessing import StandardScaler\n",
    "from sklearn.model_selection import train_test_split\n",
    "import pandas as pd\n",
    "from sklearn.preprocessing import LabelEncoder\n",
    "\n",
    "# label_encoder = LabelEncoder()\n",
    "# df[\"marka\"] = label_encoder.fit_transform(df[\"marka\"])\n",
    "# df[\"seri\"] = label_encoder.fit_transform(df[\"seri\"])\n",
    "# df[\"vites\"] = label_encoder.fit_transform(df[\"vites\"])\n",
    "# df[\"yakıt\"] = label_encoder.fit_transform(df[\"yakıt\"])\n",
    "# df[\"kasa_tipi\"] = label_encoder.fit_transform(df[\"kasa_tipi\"])\n",
    "# df[\"çekiş\"] = label_encoder.fit_transform(df[\"çekiş\"])\n",
    "\n",
    "# 1. Veri setini yükle ve ön işle\n",
    "df = pd.read_csv(\"dataset.csv\")\n",
    "X = df.drop(['price'], axis=1)\n",
    "y = df['price']\n",
    "\n",
    "\n",
    "\n",
    "\n",
    "# Özellikleri standardize et\n",
    "scaler = StandardScaler()\n",
    "X = scaler.fit_transform(X)\n",
    "\n",
    "# Veri setini eğitim ve test setlerine ayır\n",
    "X_train, X_test, y_train, y_test = train_test_split(X, y, test_size=0.2)\n",
    "\n",
    "# 2. Modeli oluştur\n",
    "model = tf.keras.Sequential()\n",
    "model.add(tf.keras.layers.Dense(64, input_shape=(X_train.shape[1],), activation='relu'))\n",
    "model.add(tf.keras.layers.Dense(64, activation='relu'))\n",
    "model.add(tf.keras.layers.Dense(1))\n",
    "\n",
    "# 3. Modeli eğit\n",
    "model.compile(optimizer='adam', loss='mean_squared_error')\n",
    "history = model.fit(X_train, y_train, epochs=50, batch_size=32, validation_split=0.2)\n",
    "\n",
    "# 4. Modeli değerlendir\n",
    "test_loss = model.evaluate(X_test, y_test, verbose=0)\n",
    "print(\"Test loss:\", test_loss)\n",
    "\n",
    "# 5. Modeli kullan\n",
    "predictions = model.predict(X_test)"
   ]
  },
  {
   "cell_type": "code",
   "execution_count": 11,
   "metadata": {},
   "outputs": [
    {
     "name": "stderr",
     "output_type": "stream",
     "text": [
      "c:\\Users\\enesc\\AppData\\Local\\Programs\\Python\\Python39\\lib\\site-packages\\sklearn\\base.py:450: UserWarning: X does not have valid feature names, but StandardScaler was fitted with feature names\n",
      "  warnings.warn(\n"
     ]
    },
    {
     "ename": "ValueError",
     "evalue": "Expected 2D array, got 1D array instead:\narray=[1.000e+00 3.000e+00 2.008e+03 2.630e+05 1.000e+00 1.000e+00 1.000e+00\n 1.595e+03 1.020e+02].\nReshape your data either using array.reshape(-1, 1) if your data has a single feature or array.reshape(1, -1) if it contains a single sample.",
     "output_type": "error",
     "traceback": [
      "\u001b[1;31m---------------------------------------------------------------------------\u001b[0m",
      "\u001b[1;31mValueError\u001b[0m                                Traceback (most recent call last)",
      "Cell \u001b[1;32mIn [11], line 2\u001b[0m\n\u001b[0;32m      1\u001b[0m car_features \u001b[39m=\u001b[39m [\u001b[39m1\u001b[39m,\u001b[39m3\u001b[39m,\u001b[39m2008\u001b[39m,\u001b[39m263000\u001b[39m,\u001b[39m1\u001b[39m,\u001b[39m1\u001b[39m,\u001b[39m1\u001b[39m,\u001b[39m1595\u001b[39m,\u001b[39m102\u001b[39m]\n\u001b[1;32m----> 2\u001b[0m car_features \u001b[39m=\u001b[39m scaler\u001b[39m.\u001b[39;49mtransform(car_features)\n\u001b[0;32m      4\u001b[0m \u001b[39m#predicting the price\u001b[39;00m\n\u001b[0;32m      5\u001b[0m price_prediction \u001b[39m=\u001b[39m model\u001b[39m.\u001b[39mpredict(car_features)\n",
      "File \u001b[1;32mc:\\Users\\enesc\\AppData\\Local\\Programs\\Python\\Python39\\lib\\site-packages\\sklearn\\preprocessing\\_data.py:975\u001b[0m, in \u001b[0;36mStandardScaler.transform\u001b[1;34m(self, X, copy)\u001b[0m\n\u001b[0;32m    972\u001b[0m check_is_fitted(\u001b[39mself\u001b[39m)\n\u001b[0;32m    974\u001b[0m copy \u001b[39m=\u001b[39m copy \u001b[39mif\u001b[39;00m copy \u001b[39mis\u001b[39;00m \u001b[39mnot\u001b[39;00m \u001b[39mNone\u001b[39;00m \u001b[39melse\u001b[39;00m \u001b[39mself\u001b[39m\u001b[39m.\u001b[39mcopy\n\u001b[1;32m--> 975\u001b[0m X \u001b[39m=\u001b[39m \u001b[39mself\u001b[39;49m\u001b[39m.\u001b[39;49m_validate_data(\n\u001b[0;32m    976\u001b[0m     X,\n\u001b[0;32m    977\u001b[0m     reset\u001b[39m=\u001b[39;49m\u001b[39mFalse\u001b[39;49;00m,\n\u001b[0;32m    978\u001b[0m     accept_sparse\u001b[39m=\u001b[39;49m\u001b[39m\"\u001b[39;49m\u001b[39mcsr\u001b[39;49m\u001b[39m\"\u001b[39;49m,\n\u001b[0;32m    979\u001b[0m     copy\u001b[39m=\u001b[39;49mcopy,\n\u001b[0;32m    980\u001b[0m     dtype\u001b[39m=\u001b[39;49mFLOAT_DTYPES,\n\u001b[0;32m    981\u001b[0m     force_all_finite\u001b[39m=\u001b[39;49m\u001b[39m\"\u001b[39;49m\u001b[39mallow-nan\u001b[39;49m\u001b[39m\"\u001b[39;49m,\n\u001b[0;32m    982\u001b[0m )\n\u001b[0;32m    984\u001b[0m \u001b[39mif\u001b[39;00m sparse\u001b[39m.\u001b[39missparse(X):\n\u001b[0;32m    985\u001b[0m     \u001b[39mif\u001b[39;00m \u001b[39mself\u001b[39m\u001b[39m.\u001b[39mwith_mean:\n",
      "File \u001b[1;32mc:\\Users\\enesc\\AppData\\Local\\Programs\\Python\\Python39\\lib\\site-packages\\sklearn\\base.py:577\u001b[0m, in \u001b[0;36mBaseEstimator._validate_data\u001b[1;34m(self, X, y, reset, validate_separately, **check_params)\u001b[0m\n\u001b[0;32m    575\u001b[0m     \u001b[39mraise\u001b[39;00m \u001b[39mValueError\u001b[39;00m(\u001b[39m\"\u001b[39m\u001b[39mValidation should be done on X, y or both.\u001b[39m\u001b[39m\"\u001b[39m)\n\u001b[0;32m    576\u001b[0m \u001b[39melif\u001b[39;00m \u001b[39mnot\u001b[39;00m no_val_X \u001b[39mand\u001b[39;00m no_val_y:\n\u001b[1;32m--> 577\u001b[0m     X \u001b[39m=\u001b[39m check_array(X, input_name\u001b[39m=\u001b[39m\u001b[39m\"\u001b[39m\u001b[39mX\u001b[39m\u001b[39m\"\u001b[39m, \u001b[39m*\u001b[39m\u001b[39m*\u001b[39mcheck_params)\n\u001b[0;32m    578\u001b[0m     out \u001b[39m=\u001b[39m X\n\u001b[0;32m    579\u001b[0m \u001b[39melif\u001b[39;00m no_val_X \u001b[39mand\u001b[39;00m \u001b[39mnot\u001b[39;00m no_val_y:\n",
      "File \u001b[1;32mc:\\Users\\enesc\\AppData\\Local\\Programs\\Python\\Python39\\lib\\site-packages\\sklearn\\utils\\validation.py:879\u001b[0m, in \u001b[0;36mcheck_array\u001b[1;34m(array, accept_sparse, accept_large_sparse, dtype, order, copy, force_all_finite, ensure_2d, allow_nd, ensure_min_samples, ensure_min_features, estimator, input_name)\u001b[0m\n\u001b[0;32m    877\u001b[0m     \u001b[39m# If input is 1D raise error\u001b[39;00m\n\u001b[0;32m    878\u001b[0m     \u001b[39mif\u001b[39;00m array\u001b[39m.\u001b[39mndim \u001b[39m==\u001b[39m \u001b[39m1\u001b[39m:\n\u001b[1;32m--> 879\u001b[0m         \u001b[39mraise\u001b[39;00m \u001b[39mValueError\u001b[39;00m(\n\u001b[0;32m    880\u001b[0m             \u001b[39m\"\u001b[39m\u001b[39mExpected 2D array, got 1D array instead:\u001b[39m\u001b[39m\\n\u001b[39;00m\u001b[39marray=\u001b[39m\u001b[39m{}\u001b[39;00m\u001b[39m.\u001b[39m\u001b[39m\\n\u001b[39;00m\u001b[39m\"\u001b[39m\n\u001b[0;32m    881\u001b[0m             \u001b[39m\"\u001b[39m\u001b[39mReshape your data either using array.reshape(-1, 1) if \u001b[39m\u001b[39m\"\u001b[39m\n\u001b[0;32m    882\u001b[0m             \u001b[39m\"\u001b[39m\u001b[39myour data has a single feature or array.reshape(1, -1) \u001b[39m\u001b[39m\"\u001b[39m\n\u001b[0;32m    883\u001b[0m             \u001b[39m\"\u001b[39m\u001b[39mif it contains a single sample.\u001b[39m\u001b[39m\"\u001b[39m\u001b[39m.\u001b[39mformat(array)\n\u001b[0;32m    884\u001b[0m         )\n\u001b[0;32m    886\u001b[0m \u001b[39mif\u001b[39;00m dtype_numeric \u001b[39mand\u001b[39;00m array\u001b[39m.\u001b[39mdtype\u001b[39m.\u001b[39mkind \u001b[39min\u001b[39;00m \u001b[39m\"\u001b[39m\u001b[39mUSV\u001b[39m\u001b[39m\"\u001b[39m:\n\u001b[0;32m    887\u001b[0m     \u001b[39mraise\u001b[39;00m \u001b[39mValueError\u001b[39;00m(\n\u001b[0;32m    888\u001b[0m         \u001b[39m\"\u001b[39m\u001b[39mdtype=\u001b[39m\u001b[39m'\u001b[39m\u001b[39mnumeric\u001b[39m\u001b[39m'\u001b[39m\u001b[39m is not compatible with arrays of bytes/strings.\u001b[39m\u001b[39m\"\u001b[39m\n\u001b[0;32m    889\u001b[0m         \u001b[39m\"\u001b[39m\u001b[39mConvert your data to numeric values explicitly instead.\u001b[39m\u001b[39m\"\u001b[39m\n\u001b[0;32m    890\u001b[0m     )\n",
      "\u001b[1;31mValueError\u001b[0m: Expected 2D array, got 1D array instead:\narray=[1.000e+00 3.000e+00 2.008e+03 2.630e+05 1.000e+00 1.000e+00 1.000e+00\n 1.595e+03 1.020e+02].\nReshape your data either using array.reshape(-1, 1) if your data has a single feature or array.reshape(1, -1) if it contains a single sample."
     ]
    }
   ],
   "source": [
    "car_features = [\"Audi\",\"A4\",2015,51743,\"Yarı Otomatik\",\"Dizel\",\"Sedan\",1968,188]\n",
    "car_features = scaler.transform(car_features)\n",
    "\n",
    "#predicting the price\n",
    "price_prediction = model.predict(car_features)\n",
    "\n",
    "print(\"Predicted price: \", price_prediction)"
   ]
  },
  {
   "cell_type": "code",
   "execution_count": null,
   "metadata": {},
   "outputs": [],
   "source": []
  }
 ],
 "metadata": {
  "kernelspec": {
   "display_name": "Python 3",
   "language": "python",
   "name": "python3"
  },
  "language_info": {
   "codemirror_mode": {
    "name": "ipython",
    "version": 3
   },
   "file_extension": ".py",
   "mimetype": "text/x-python",
   "name": "python",
   "nbconvert_exporter": "python",
   "pygments_lexer": "ipython3",
   "version": "3.9.1 (tags/v3.9.1:1e5d33e, Dec  7 2020, 17:08:21) [MSC v.1927 64 bit (AMD64)]"
  },
  "orig_nbformat": 4,
  "vscode": {
   "interpreter": {
    "hash": "fed92f82d8dd795fba14ea1acce25d431e9d01f7f3dfcebac85b96622b745e0f"
   }
  }
 },
 "nbformat": 4,
 "nbformat_minor": 2
}
