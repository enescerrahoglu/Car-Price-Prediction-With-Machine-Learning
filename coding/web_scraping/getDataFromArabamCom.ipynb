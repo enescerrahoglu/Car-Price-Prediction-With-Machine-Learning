{
 "cells": [
  {
   "cell_type": "code",
   "execution_count": 1,
   "metadata": {},
   "outputs": [],
   "source": [
    "from selenium import webdriver\n",
    "from time import sleep\n",
    "import pandas as pd\n",
    "import matplotlib.pyplot as plt\n",
    "import seaborn as sns\n",
    "from selenium.webdriver.support.ui import WebDriverWait\n",
    "from selenium.webdriver.common.by import By\n",
    "from selenium.webdriver.support import expected_conditions as EC\n",
    "from selenium.webdriver.common.keys import Keys\n",
    "import openpyxl"
   ]
  },
  {
   "cell_type": "markdown",
   "metadata": {},
   "source": []
  },
  {
   "cell_type": "code",
   "execution_count": 2,
   "metadata": {},
   "outputs": [],
   "source": [
    "class Car():\n",
    "    def __init__(self, i̇lan_no = \"\",\n",
    "    i̇lan_tarihi = \"\",\n",
    "    marka = \"\",\n",
    "    seri = \"\",\n",
    "    model = \"\",\n",
    "    yıl = \"\",\n",
    "    km = \"\",\n",
    "    vites = \"\",\n",
    "    yakıt = \"\",\n",
    "    kasa_tipi = \"\",\n",
    "    motor_hacmi = \"\",\n",
    "    motor_gücü = \"\",\n",
    "    çekiş = \"\",\n",
    "    fiyat = \"\"):\n",
    "        self.i̇lan_no = i̇lan_no\n",
    "        self.i̇lan_tarihi = i̇lan_tarihi\n",
    "        self.marka = marka\n",
    "        self.seri = seri\n",
    "        self.model = model\n",
    "        self.yıl = yıl\n",
    "        self.km = km\n",
    "        self.vites = vites\n",
    "        self.yakıt = yakıt\n",
    "        self.kasa_tipi = kasa_tipi\n",
    "        self.motor_hacmi = motor_hacmi\n",
    "        self.motor_gücü = motor_gücü\n",
    "        self.çekiş = çekiş\n",
    "        self.fiyat = fiyat\n",
    "        \n",
    "\n",
    "    def as_dict(self):\n",
    "        return {'i̇lan_no': self.i̇lan_no, 'i̇lan_tarihi': self.i̇lan_tarihi, 'marka': self.marka, \"seri\":self.seri, \"model\":self.model, \"yıl\":self.yıl, \"km\":self.km, \"vites\":self.vites, \"yakıt\":self.yakıt, \"kasa_tipi\":self.kasa_tipi, \"motor_hacmi\":self.motor_hacmi, \"motor_gücü\":self.motor_gücü, \"çekiş\":self.çekiş, \"fiyat\":self.fiyat}\n"
   ]
  },
  {
   "cell_type": "code",
   "execution_count": 3,
   "metadata": {},
   "outputs": [
    {
     "name": "stderr",
     "output_type": "stream",
     "text": [
      "C:\\Users\\enesc\\AppData\\Local\\Temp\\ipykernel_9288\\3827794213.py:1: DeprecationWarning: executable_path has been deprecated, please pass in a Service object\n",
      "  driver = webdriver.Chrome(executable_path=\"D:/chromedriver.exe\")\n"
     ]
    },
    {
     "name": "stdout",
     "output_type": "stream",
     "text": [
      "Number of cars:  1\n",
      "Number of cars:  2\n",
      "Number of cars:  3\n",
      "Number of cars:  4\n",
      "Number of cars:  5\n",
      "Number of cars:  6\n"
     ]
    },
    {
     "ename": "NoSuchWindowException",
     "evalue": "Message: no such window: target window already closed\nfrom unknown error: web view not found\n  (Session info: chrome=108.0.5359.125)\nStacktrace:\nBacktrace:\n\t(No symbol) [0x0074F243]\n\t(No symbol) [0x006D7FD1]\n\t(No symbol) [0x005CD04D]\n\t(No symbol) [0x005B2D7A]\n\t(No symbol) [0x0061BE7B]\n\t(No symbol) [0x0062C196]\n\t(No symbol) [0x00618386]\n\t(No symbol) [0x005F163C]\n\t(No symbol) [0x005F269D]\n\tGetHandleVerifier [0x009E9A22+2655074]\n\tGetHandleVerifier [0x009DCA24+2601828]\n\tGetHandleVerifier [0x007F8C0A+619850]\n\tGetHandleVerifier [0x007F7830+614768]\n\t(No symbol) [0x006E05FC]\n\t(No symbol) [0x006E5968]\n\t(No symbol) [0x006E5A55]\n\t(No symbol) [0x006F051B]\n\tBaseThreadInitThunk [0x766A00F9+25]\n\tRtlGetAppContainerNamedObjectPath [0x77797BBE+286]\n\tRtlGetAppContainerNamedObjectPath [0x77797B8E+238]\n",
     "output_type": "error",
     "traceback": [
      "\u001b[1;31m---------------------------------------------------------------------------\u001b[0m",
      "\u001b[1;31mNoSuchWindowException\u001b[0m                     Traceback (most recent call last)",
      "Cell \u001b[1;32mIn [3], line 15\u001b[0m\n\u001b[0;32m     13\u001b[0m \u001b[39mif\u001b[39;00m(row\u001b[39m.\u001b[39mget_attribute(\u001b[39m'\u001b[39m\u001b[39mid\u001b[39m\u001b[39m'\u001b[39m) \u001b[39m!=\u001b[39m \u001b[39mNone\u001b[39;00m \u001b[39mand\u001b[39;00m \u001b[39mstr\u001b[39m(row\u001b[39m.\u001b[39mget_attribute(\u001b[39m'\u001b[39m\u001b[39mid\u001b[39m\u001b[39m'\u001b[39m)) \u001b[39m!=\u001b[39m  \u001b[39m\"\u001b[39m\u001b[39m\"\u001b[39m):\n\u001b[0;32m     14\u001b[0m     sleep(\u001b[39m1\u001b[39m)\n\u001b[1;32m---> 15\u001b[0m     driver\u001b[39m.\u001b[39mexecute_script(\u001b[39m\"\u001b[39m\u001b[39mwindow.open(\u001b[39m\u001b[39m'\u001b[39m\u001b[39m%s\u001b[39;00m\u001b[39m'\u001b[39m\u001b[39m, \u001b[39m\u001b[39m'\u001b[39m\u001b[39m_blank\u001b[39m\u001b[39m'\u001b[39m\u001b[39m)\u001b[39m\u001b[39m\"\u001b[39m \u001b[39m%\u001b[39m row\u001b[39m.\u001b[39;49mfind_elements(By\u001b[39m.\u001b[39;49mTAG_NAME, \u001b[39m\"\u001b[39;49m\u001b[39mtd\u001b[39;49m\u001b[39m\"\u001b[39;49m)[\u001b[39m0\u001b[39m]\u001b[39m.\u001b[39mfind_elements(By\u001b[39m.\u001b[39mTAG_NAME, \u001b[39m\"\u001b[39m\u001b[39ma\u001b[39m\u001b[39m\"\u001b[39m)[\u001b[39m0\u001b[39m]\u001b[39m.\u001b[39mget_attribute(\u001b[39m'\u001b[39m\u001b[39mhref\u001b[39m\u001b[39m'\u001b[39m))\n\u001b[0;32m     16\u001b[0m     driver\u001b[39m.\u001b[39mswitch_to\u001b[39m.\u001b[39mwindow(driver\u001b[39m.\u001b[39mwindow_handles[\u001b[39m1\u001b[39m])\n\u001b[0;32m     17\u001b[0m     sleep(\u001b[39m1\u001b[39m)\n",
      "File \u001b[1;32mc:\\Users\\enesc\\AppData\\Local\\Programs\\Python\\Python39\\lib\\site-packages\\selenium\\webdriver\\remote\\webelement.py:443\u001b[0m, in \u001b[0;36mWebElement.find_elements\u001b[1;34m(self, by, value)\u001b[0m\n\u001b[0;32m    440\u001b[0m     by \u001b[39m=\u001b[39m By\u001b[39m.\u001b[39mCSS_SELECTOR\n\u001b[0;32m    441\u001b[0m     value \u001b[39m=\u001b[39m \u001b[39m'\u001b[39m\u001b[39m[name=\u001b[39m\u001b[39m\"\u001b[39m\u001b[39m%s\u001b[39;00m\u001b[39m\"\u001b[39m\u001b[39m]\u001b[39m\u001b[39m'\u001b[39m \u001b[39m%\u001b[39m value\n\u001b[1;32m--> 443\u001b[0m \u001b[39mreturn\u001b[39;00m \u001b[39mself\u001b[39;49m\u001b[39m.\u001b[39;49m_execute(Command\u001b[39m.\u001b[39;49mFIND_CHILD_ELEMENTS,\n\u001b[0;32m    444\u001b[0m                      {\u001b[39m\"\u001b[39;49m\u001b[39musing\u001b[39;49m\u001b[39m\"\u001b[39;49m: by, \u001b[39m\"\u001b[39;49m\u001b[39mvalue\u001b[39;49m\u001b[39m\"\u001b[39;49m: value})[\u001b[39m'\u001b[39m\u001b[39mvalue\u001b[39m\u001b[39m'\u001b[39m]\n",
      "File \u001b[1;32mc:\\Users\\enesc\\AppData\\Local\\Programs\\Python\\Python39\\lib\\site-packages\\selenium\\webdriver\\remote\\webelement.py:396\u001b[0m, in \u001b[0;36mWebElement._execute\u001b[1;34m(self, command, params)\u001b[0m\n\u001b[0;32m    394\u001b[0m     params \u001b[39m=\u001b[39m {}\n\u001b[0;32m    395\u001b[0m params[\u001b[39m'\u001b[39m\u001b[39mid\u001b[39m\u001b[39m'\u001b[39m] \u001b[39m=\u001b[39m \u001b[39mself\u001b[39m\u001b[39m.\u001b[39m_id\n\u001b[1;32m--> 396\u001b[0m \u001b[39mreturn\u001b[39;00m \u001b[39mself\u001b[39;49m\u001b[39m.\u001b[39;49m_parent\u001b[39m.\u001b[39;49mexecute(command, params)\n",
      "File \u001b[1;32mc:\\Users\\enesc\\AppData\\Local\\Programs\\Python\\Python39\\lib\\site-packages\\selenium\\webdriver\\remote\\webdriver.py:429\u001b[0m, in \u001b[0;36mWebDriver.execute\u001b[1;34m(self, driver_command, params)\u001b[0m\n\u001b[0;32m    427\u001b[0m response \u001b[39m=\u001b[39m \u001b[39mself\u001b[39m\u001b[39m.\u001b[39mcommand_executor\u001b[39m.\u001b[39mexecute(driver_command, params)\n\u001b[0;32m    428\u001b[0m \u001b[39mif\u001b[39;00m response:\n\u001b[1;32m--> 429\u001b[0m     \u001b[39mself\u001b[39;49m\u001b[39m.\u001b[39;49merror_handler\u001b[39m.\u001b[39;49mcheck_response(response)\n\u001b[0;32m    430\u001b[0m     response[\u001b[39m'\u001b[39m\u001b[39mvalue\u001b[39m\u001b[39m'\u001b[39m] \u001b[39m=\u001b[39m \u001b[39mself\u001b[39m\u001b[39m.\u001b[39m_unwrap_value(\n\u001b[0;32m    431\u001b[0m         response\u001b[39m.\u001b[39mget(\u001b[39m'\u001b[39m\u001b[39mvalue\u001b[39m\u001b[39m'\u001b[39m, \u001b[39mNone\u001b[39;00m))\n\u001b[0;32m    432\u001b[0m     \u001b[39mreturn\u001b[39;00m response\n",
      "File \u001b[1;32mc:\\Users\\enesc\\AppData\\Local\\Programs\\Python\\Python39\\lib\\site-packages\\selenium\\webdriver\\remote\\errorhandler.py:243\u001b[0m, in \u001b[0;36mErrorHandler.check_response\u001b[1;34m(self, response)\u001b[0m\n\u001b[0;32m    241\u001b[0m         alert_text \u001b[39m=\u001b[39m value[\u001b[39m'\u001b[39m\u001b[39malert\u001b[39m\u001b[39m'\u001b[39m]\u001b[39m.\u001b[39mget(\u001b[39m'\u001b[39m\u001b[39mtext\u001b[39m\u001b[39m'\u001b[39m)\n\u001b[0;32m    242\u001b[0m     \u001b[39mraise\u001b[39;00m exception_class(message, screen, stacktrace, alert_text)  \u001b[39m# type: ignore[call-arg]  # mypy is not smart enough here\u001b[39;00m\n\u001b[1;32m--> 243\u001b[0m \u001b[39mraise\u001b[39;00m exception_class(message, screen, stacktrace)\n",
      "\u001b[1;31mNoSuchWindowException\u001b[0m: Message: no such window: target window already closed\nfrom unknown error: web view not found\n  (Session info: chrome=108.0.5359.125)\nStacktrace:\nBacktrace:\n\t(No symbol) [0x0074F243]\n\t(No symbol) [0x006D7FD1]\n\t(No symbol) [0x005CD04D]\n\t(No symbol) [0x005B2D7A]\n\t(No symbol) [0x0061BE7B]\n\t(No symbol) [0x0062C196]\n\t(No symbol) [0x00618386]\n\t(No symbol) [0x005F163C]\n\t(No symbol) [0x005F269D]\n\tGetHandleVerifier [0x009E9A22+2655074]\n\tGetHandleVerifier [0x009DCA24+2601828]\n\tGetHandleVerifier [0x007F8C0A+619850]\n\tGetHandleVerifier [0x007F7830+614768]\n\t(No symbol) [0x006E05FC]\n\t(No symbol) [0x006E5968]\n\t(No symbol) [0x006E5A55]\n\t(No symbol) [0x006F051B]\n\tBaseThreadInitThunk [0x766A00F9+25]\n\tRtlGetAppContainerNamedObjectPath [0x77797BBE+286]\n\tRtlGetAppContainerNamedObjectPath [0x77797B8E+238]\n"
     ]
    }
   ],
   "source": [
    "\n",
    "driver = webdriver.Chrome(executable_path=\"D:/chromedriver.exe\")\n",
    "\n",
    "brand = \"volkswagen\"\n",
    "\n",
    "sleep(1)\n",
    "\n",
    "cars = []\n",
    "for x in range(1, 1000, 1):\n",
    "    driver.get(\"https://www.arabam.com/ikinci-el/otomobil/%s?take=50&page=%s\" % (brand, x))\n",
    "    table_id = driver.find_element(By.ID, 'main-listing')\n",
    "    rows = table_id.find_elements(By.TAG_NAME, \"tr\")\n",
    "    for row in rows:\n",
    "        if(row.get_attribute('id') != None and str(row.get_attribute('id')) !=  \"\"):\n",
    "            sleep(1)\n",
    "            driver.execute_script(\"window.open('%s', '_blank')\" % row.find_elements(By.TAG_NAME, \"td\")[0].find_elements(By.TAG_NAME, \"a\")[0].get_attribute('href'))\n",
    "            driver.switch_to.window(driver.window_handles[1])\n",
    "            sleep(1)\n",
    "            car = Car()\n",
    "                    \n",
    "            try:\n",
    "                car.i̇lan_no = driver.find_element(By.XPATH, '//*[@id=\"js-hook-for-observer-detail\"]/div[2]/ul/li[1]/span[2]').text.strip()\n",
    "                car.i̇lan_tarihi = driver.find_element(By.XPATH, '//*[@id=\"js-hook-for-observer-detail\"]/div[2]/ul/li[2]/span[2]').text.strip()\n",
    "                car.marka = driver.find_element(By.XPATH, '//*[@id=\"js-hook-for-observer-detail\"]/div[2]/ul/li[3]/span[2]').text.strip()\n",
    "                car.seri = driver.find_element(By.XPATH, '//*[@id=\"js-hook-for-observer-detail\"]/div[2]/ul/li[4]/span[2]').text.strip()\n",
    "                car.model = driver.find_element(By.XPATH, '//*[@id=\"js-hook-for-observer-detail\"]/div[2]/ul/li[5]/span[2]').text.strip()\n",
    "                car.yıl = driver.find_element(By.XPATH, '//*[@id=\"js-hook-for-observer-detail\"]/div[2]/ul/li[6]/span[2]').text.strip()\n",
    "                car.km = driver.find_element(By.XPATH, '//*[@id=\"js-hook-for-observer-detail\"]/div[2]/ul/li[7]/span[2]').text.strip()\n",
    "                car.vites = driver.find_element(By.XPATH, '//*[@id=\"js-hook-for-observer-detail\"]/div[2]/ul/li[8]/span[2]').text.strip()\n",
    "                car.yakıt = driver.find_element(By.XPATH, '//*[@id=\"js-hook-for-observer-detail\"]/div[2]/ul/li[9]/span[2]').text.strip()\n",
    "                car.kasa_tipi = driver.find_element(By.XPATH, '//*[@id=\"js-hook-for-observer-detail\"]/div[2]/ul/li[10]/span[2]').text.strip()\n",
    "                car.motor_hacmi = driver.find_element(By.XPATH, '//*[@id=\"js-hook-for-observer-detail\"]/div[2]/ul/li[11]/span[2]').text.strip()\n",
    "                car.motor_gücü = driver.find_element(By.XPATH, '//*[@id=\"js-hook-for-observer-detail\"]/div[2]/ul/li[12]/span[2]').text.strip()\n",
    "                car.çekiş = driver.find_element(By.XPATH, '//*[@id=\"js-hook-for-observer-detail\"]/div[2]/ul/li[13]/span[2]').text.strip()\n",
    "                car.fiyat = driver.find_element(By.XPATH, '//*[@id=\"js-hook-for-observer-detail\"]/div[2]/div[1]/div/span').text.split(\"TL\")[0].strip()\n",
    "            except:\n",
    "                pass\n",
    "            \n",
    "            cars.append(car)\n",
    "            print(\"Number of cars: \", len(cars))\n",
    "            driver.close()\n",
    "            driver.switch_to.window(driver.window_handles[0])\n",
    "    sleep(1)\n",
    "driver.close()\n",
    "df = pd.DataFrame([x.as_dict() for x in cars])\n",
    "df.to_excel('%s.xlsx' % (brand))\n"
   ]
  },
  {
   "cell_type": "code",
   "execution_count": 6,
   "metadata": {},
   "outputs": [
    {
     "data": {
      "text/html": [
       "<div>\n",
       "<style scoped>\n",
       "    .dataframe tbody tr th:only-of-type {\n",
       "        vertical-align: middle;\n",
       "    }\n",
       "\n",
       "    .dataframe tbody tr th {\n",
       "        vertical-align: top;\n",
       "    }\n",
       "\n",
       "    .dataframe thead th {\n",
       "        text-align: right;\n",
       "    }\n",
       "</style>\n",
       "<table border=\"1\" class=\"dataframe\">\n",
       "  <thead>\n",
       "    <tr style=\"text-align: right;\">\n",
       "      <th></th>\n",
       "      <th>i̇lan_no</th>\n",
       "      <th>i̇lan_tarihi</th>\n",
       "      <th>marka</th>\n",
       "      <th>seri</th>\n",
       "      <th>model</th>\n",
       "      <th>yıl</th>\n",
       "      <th>km</th>\n",
       "      <th>vites</th>\n",
       "      <th>yakıt</th>\n",
       "      <th>kasa_tipi</th>\n",
       "      <th>motor_hacmi</th>\n",
       "      <th>motor_gücü</th>\n",
       "      <th>çekiş</th>\n",
       "      <th>fiyat</th>\n",
       "    </tr>\n",
       "  </thead>\n",
       "  <tbody>\n",
       "    <tr>\n",
       "      <th>0</th>\n",
       "      <td>21721057</td>\n",
       "      <td>08 Ocak 2023</td>\n",
       "      <td>Volkswagen</td>\n",
       "      <td>Passat</td>\n",
       "      <td>1.6 TDi BlueMotion R Line</td>\n",
       "      <td>2017</td>\n",
       "      <td>232.000 km</td>\n",
       "      <td>Yarı Otomatik</td>\n",
       "      <td>Dizel</td>\n",
       "      <td>Sedan</td>\n",
       "      <td>1598 cc</td>\n",
       "      <td>120 hp</td>\n",
       "      <td>Önden Çekiş</td>\n",
       "      <td>975.000</td>\n",
       "    </tr>\n",
       "  </tbody>\n",
       "</table>\n",
       "</div>"
      ],
      "text/plain": [
       "   i̇lan_no  i̇lan_tarihi       marka    seri                      model  \\\n",
       "0  21721057  08 Ocak 2023  Volkswagen  Passat  1.6 TDi BlueMotion R Line   \n",
       "\n",
       "    yıl          km          vites  yakıt kasa_tipi motor_hacmi motor_gücü  \\\n",
       "0  2017  232.000 km  Yarı Otomatik  Dizel     Sedan     1598 cc     120 hp   \n",
       "\n",
       "         çekiş    fiyat  \n",
       "0  Önden Çekiş  975.000  "
      ]
     },
     "execution_count": 6,
     "metadata": {},
     "output_type": "execute_result"
    }
   ],
   "source": [
    "df = pd.DataFrame([x.as_dict() for x in cars])\n",
    "df"
   ]
  },
  {
   "cell_type": "code",
   "execution_count": 33,
   "metadata": {},
   "outputs": [],
   "source": [
    "# df.to_excel('dataset.xlsx')\n",
    "\n",
    "def append_df_to_excel(df, excel_path):\n",
    "    df_excel = pd.read_excel(excel_path)\n",
    "    result = pd.concat([df_excel, df], ignore_index=True)\n",
    "    result.to_excel(excel_path, index=False)\n",
    "\n",
    "append_df_to_excel(df, 'dataset.xlsx')"
   ]
  },
  {
   "cell_type": "markdown",
   "metadata": {},
   "source": []
  }
 ],
 "metadata": {
  "kernelspec": {
   "display_name": "Python 3.9.1 64-bit",
   "language": "python",
   "name": "python3"
  },
  "language_info": {
   "codemirror_mode": {
    "name": "ipython",
    "version": 3
   },
   "file_extension": ".py",
   "mimetype": "text/x-python",
   "name": "python",
   "nbconvert_exporter": "python",
   "pygments_lexer": "ipython3",
   "version": "3.9.1 (tags/v3.9.1:1e5d33e, Dec  7 2020, 17:08:21) [MSC v.1927 64 bit (AMD64)]"
  },
  "orig_nbformat": 4,
  "vscode": {
   "interpreter": {
    "hash": "fed92f82d8dd795fba14ea1acce25d431e9d01f7f3dfcebac85b96622b745e0f"
   }
  }
 },
 "nbformat": 4,
 "nbformat_minor": 2
}
