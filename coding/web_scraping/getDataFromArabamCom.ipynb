{
 "cells": [
  {
   "cell_type": "code",
   "execution_count": 1,
   "metadata": {},
   "outputs": [],
   "source": [
    "from selenium import webdriver\n",
    "from time import sleep\n",
    "import pandas as pd\n",
    "import matplotlib.pyplot as plt\n",
    "import seaborn as sns\n",
    "from selenium.webdriver.support.ui import WebDriverWait\n",
    "from selenium.webdriver.common.by import By\n",
    "from selenium.webdriver.support import expected_conditions as EC\n",
    "from selenium.webdriver.common.keys import Keys\n",
    "import openpyxl"
   ]
  },
  {
   "cell_type": "markdown",
   "metadata": {},
   "source": []
  },
  {
   "cell_type": "code",
   "execution_count": 2,
   "metadata": {},
   "outputs": [],
   "source": [
    "class Car():\n",
    "    def __init__(self, i̇lan_no = \"\",\n",
    "    i̇lan_tarihi = \"\",\n",
    "    marka = \"\",\n",
    "    seri = \"\",\n",
    "    model = \"\",\n",
    "    yıl = \"\",\n",
    "    km = \"\",\n",
    "    vites = \"\",\n",
    "    yakıt = \"\",\n",
    "    kasa_tipi = \"\",\n",
    "    motor_hacmi = \"\",\n",
    "    motor_gücü = \"\",\n",
    "    çekiş = \"\",\n",
    "    fiyat = \"\"):\n",
    "        self.i̇lan_no = i̇lan_no\n",
    "        self.i̇lan_tarihi = i̇lan_tarihi\n",
    "        self.marka = marka\n",
    "        self.seri = seri\n",
    "        self.model = model\n",
    "        self.yıl = yıl\n",
    "        self.km = km\n",
    "        self.vites = vites\n",
    "        self.yakıt = yakıt\n",
    "        self.kasa_tipi = kasa_tipi\n",
    "        self.motor_hacmi = motor_hacmi\n",
    "        self.motor_gücü = motor_gücü\n",
    "        self.çekiş = çekiş\n",
    "        self.fiyat = fiyat\n",
    "        \n",
    "\n",
    "    def as_dict(self):\n",
    "        return {'i̇lan_no': self.i̇lan_no, 'i̇lan_tarihi': self.i̇lan_tarihi, 'marka': self.marka, \"seri\":self.seri, \"model\":self.model, \"yıl\":self.yıl, \"km\":self.km, \"vites\":self.vites, \"yakıt\":self.yakıt, \"kasa_tipi\":self.kasa_tipi, \"motor_hacmi\":self.motor_hacmi, \"motor_gücü\":self.motor_gücü, \"çekiş\":self.çekiş, \"fiyat\":self.fiyat}\n"
   ]
  },
  {
   "cell_type": "code",
   "execution_count": null,
   "metadata": {},
   "outputs": [],
   "source": [
    "\n",
    "driver = webdriver.Chrome(executable_path=\"D:/chromedriver.exe\")\n",
    "\n",
    "brand = \"volkswagen\"\n",
    "\n",
    "sleep(1)\n",
    "\n",
    "cars = []\n",
    "for x in range(1, 1000, 1):\n",
    "    driver.get(\"https://www.arabam.com/ikinci-el/otomobil/%s?take=50&page=%s\" % (brand, x))\n",
    "    table_id = driver.find_element(By.ID, 'main-listing')\n",
    "    rows = table_id.find_elements(By.TAG_NAME, \"tr\")\n",
    "    for row in rows:\n",
    "        if(row.get_attribute('id') != None and str(row.get_attribute('id')) !=  \"\"):\n",
    "            sleep(1)\n",
    "            driver.execute_script(\"window.open('%s', '_blank')\" % row.find_elements(By.TAG_NAME, \"td\")[0].find_elements(By.TAG_NAME, \"a\")[0].get_attribute('href'))\n",
    "            driver.switch_to.window(driver.window_handles[1])\n",
    "            sleep(1)\n",
    "            car = Car()\n",
    "                    \n",
    "            try:\n",
    "                car.i̇lan_no = driver.find_element(By.XPATH, '//*[@id=\"js-hook-for-observer-detail\"]/div[2]/ul/li[1]/span[2]').text.strip()\n",
    "                car.i̇lan_tarihi = driver.find_element(By.XPATH, '//*[@id=\"js-hook-for-observer-detail\"]/div[2]/ul/li[2]/span[2]').text.strip()\n",
    "                car.marka = driver.find_element(By.XPATH, '//*[@id=\"js-hook-for-observer-detail\"]/div[2]/ul/li[3]/span[2]').text.strip()\n",
    "                car.seri = driver.find_element(By.XPATH, '//*[@id=\"js-hook-for-observer-detail\"]/div[2]/ul/li[4]/span[2]').text.strip()\n",
    "                car.model = driver.find_element(By.XPATH, '//*[@id=\"js-hook-for-observer-detail\"]/div[2]/ul/li[5]/span[2]').text.strip()\n",
    "                car.yıl = driver.find_element(By.XPATH, '//*[@id=\"js-hook-for-observer-detail\"]/div[2]/ul/li[6]/span[2]').text.strip()\n",
    "                car.km = driver.find_element(By.XPATH, '//*[@id=\"js-hook-for-observer-detail\"]/div[2]/ul/li[7]/span[2]').text.strip()\n",
    "                car.vites = driver.find_element(By.XPATH, '//*[@id=\"js-hook-for-observer-detail\"]/div[2]/ul/li[8]/span[2]').text.strip()\n",
    "                car.yakıt = driver.find_element(By.XPATH, '//*[@id=\"js-hook-for-observer-detail\"]/div[2]/ul/li[9]/span[2]').text.strip()\n",
    "                car.kasa_tipi = driver.find_element(By.XPATH, '//*[@id=\"js-hook-for-observer-detail\"]/div[2]/ul/li[10]/span[2]').text.strip()\n",
    "                car.motor_hacmi = driver.find_element(By.XPATH, '//*[@id=\"js-hook-for-observer-detail\"]/div[2]/ul/li[11]/span[2]').text.strip()\n",
    "                car.motor_gücü = driver.find_element(By.XPATH, '//*[@id=\"js-hook-for-observer-detail\"]/div[2]/ul/li[12]/span[2]').text.strip()\n",
    "                car.çekiş = driver.find_element(By.XPATH, '//*[@id=\"js-hook-for-observer-detail\"]/div[2]/ul/li[13]/span[2]').text.strip()\n",
    "                car.fiyat = driver.find_element(By.XPATH, '//*[@id=\"js-hook-for-observer-detail\"]/div[2]/div[1]/div/span').text.split(\"TL\")[0].strip()\n",
    "            except:\n",
    "                pass\n",
    "            \n",
    "            cars.append(car)\n",
    "            print(\"Number of cars: \", len(cars))\n",
    "            driver.close()\n",
    "            driver.switch_to.window(driver.window_handles[0])\n",
    "    sleep(1)\n",
    "driver.close()\n",
    "df = pd.DataFrame([x.as_dict() for x in cars])\n",
    "df.to_excel('%s.xlsx' % (brand))\n"
   ]
  },
  {
   "cell_type": "code",
   "execution_count": null,
   "metadata": {},
   "outputs": [],
   "source": [
    "df = pd.DataFrame([x.as_dict() for x in cars])\n",
    "df"
   ]
  },
  {
   "cell_type": "code",
   "execution_count": 33,
   "metadata": {},
   "outputs": [],
   "source": [
    "# df.to_excel('dataset.xlsx')\n",
    "\n",
    "def append_df_to_excel(df, excel_path):\n",
    "    df_excel = pd.read_excel(excel_path)\n",
    "    result = pd.concat([df_excel, df], ignore_index=True)\n",
    "    result.to_excel(excel_path, index=False)\n",
    "\n",
    "append_df_to_excel(df, 'dataset.xlsx')"
   ]
  },
  {
   "cell_type": "markdown",
   "metadata": {},
   "source": []
  }
 ],
 "metadata": {
  "kernelspec": {
   "display_name": "Python 3.9.1 64-bit",
   "language": "python",
   "name": "python3"
  },
  "language_info": {
   "codemirror_mode": {
    "name": "ipython",
    "version": 3
   },
   "file_extension": ".py",
   "mimetype": "text/x-python",
   "name": "python",
   "nbconvert_exporter": "python",
   "pygments_lexer": "ipython3",
   "version": "3.9.1"
  },
  "orig_nbformat": 4,
  "vscode": {
   "interpreter": {
    "hash": "fed92f82d8dd795fba14ea1acce25d431e9d01f7f3dfcebac85b96622b745e0f"
   }
  }
 },
 "nbformat": 4,
 "nbformat_minor": 2
}
